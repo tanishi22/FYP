{
  "nbformat": 4,
  "nbformat_minor": 0,
  "metadata": {
    "colab": {
      "provenance": [],
      "authorship_tag": "ABX9TyN5qB2mfMsGe3LUynjDvRGn",
      "include_colab_link": true
    },
    "kernelspec": {
      "name": "python3",
      "display_name": "Python 3"
    },
    "language_info": {
      "name": "python"
    }
  },
  "cells": [
    {
      "cell_type": "markdown",
      "metadata": {
        "id": "view-in-github",
        "colab_type": "text"
      },
      "source": [
        "<a href=\"https://colab.research.google.com/github/tanishi22/FYP/blob/main/Code/ML/statistical_testing.ipynb\" target=\"_parent\"><img src=\"https://colab.research.google.com/assets/colab-badge.svg\" alt=\"Open In Colab\"/></a>"
      ]
    },
    {
      "cell_type": "code",
      "execution_count": null,
      "metadata": {
        "id": "2HbtOT7I081O"
      },
      "outputs": [],
      "source": [
        "import numpy as np\n",
        "import pandas as pd\n",
        "import itertools\n",
        "from scipy.stats import friedmanchisquare, wilcoxon\n",
        "from scipy.stats import shapiro, ttest_rel, wilcoxon"
      ]
    },
    {
      "cell_type": "markdown",
      "source": [
        "start with Friedman's test - non parametric statistical test used to compare three or more related groups, useufl when the data does not mean the assumption\n",
        "of normality\n",
        "\n",
        "Null hypothesis: All classifiers have the same median performance\n",
        "If Friedman's test is significant (p < 0.05), then I can proceed to post-hoc comparisions with paired t-test for each pair with a Bonferroni or Holm correction for multiple testing"
      ],
      "metadata": {
        "id": "-1AwspCS0_sS"
      }
    },
    {
      "cell_type": "markdown",
      "source": [
        "Starting with intrinsic only comparison"
      ],
      "metadata": {
        "id": "8ILvo-cd1CF5"
      }
    },
    {
      "cell_type": "code",
      "source": [
        "# create score matrix of the 5-fold CV results for all classifiers\n",
        "\n",
        "scores = {\n",
        "    \"LogisticRegression\" : np.array([0.6364414, 0.6201882, 0.62532079, 0.63130881, 0.61077844]),\n",
        "    \"SVM\": np.array([0.72968349, 0.69289991, 0.71343028, 0.71941831, 0.69022263]),\n",
        "    \"RandomForest\": np.array([0.82720274, 0.803250, 0.78785287, 0.79298546, 0.7673225]),\n",
        "    \"GradientBoosting\": np.array([0.85714286, 0.82121471, 0.80410607, 0.82292558, 0.82292558]),\n",
        "    \"XGBoost\": np.array([0.8528657, 0.81608212, 0.80581694, 0.8100941, 0.81864842]),\n",
        "    \"MLP\": np.array([0.738223781, 0.7245509, 0.74165954, 0.72626176, 0.71086399])\n",
        "}\n",
        "\n",
        "# List of classifier names in a consistent order\n",
        "classifiers = list(scores.keys())"
      ],
      "metadata": {
        "id": "Phq-ICnj1ALp"
      },
      "execution_count": null,
      "outputs": []
    },
    {
      "cell_type": "code",
      "source": [
        "# checking normality\n",
        "from scipy.stats import shapiro\n",
        "\n",
        "print(\"Shapiro–Wilk Normality Test Results:\\n\")\n",
        "for clf_name, clf_scores in scores.items():\n",
        "    stat, p = shapiro(clf_scores)\n",
        "    print(f\"{clf_name:<20} W = {stat:.3f}, p = {p:.6f}\")\n"
      ],
      "metadata": {
        "colab": {
          "base_uri": "https://localhost:8080/"
        },
        "id": "ijPeZBWV_9oV",
        "outputId": "849693df-c16a-4e46-edcd-80c901ef8060"
      },
      "execution_count": null,
      "outputs": [
        {
          "output_type": "stream",
          "name": "stdout",
          "text": [
            "Shapiro–Wilk Normality Test Results:\n",
            "\n",
            "LogisticRegression   W = 0.984, p = 0.954820\n",
            "SVM                  W = 0.912, p = 0.477785\n",
            "RandomForest         W = 0.984, p = 0.956483\n",
            "GradientBoosting     W = 0.853, p = 0.205313\n",
            "XGBoost              W = 0.797, p = 0.076672\n",
            "MLP                  W = 0.943, p = 0.685907\n"
          ]
        }
      ]
    },
    {
      "cell_type": "code",
      "source": [
        "# paired t-test\n",
        "from scipy.stats import friedmanchisquare, ttest_rel\n",
        "import numpy as np\n",
        "import itertools\n",
        "\n",
        "# Step 1: Friedman test for global differences\n",
        "friedman_stat, friedman_p = friedmanchisquare(*(scores[clf] for clf in classifiers))\n",
        "print(f\"Friedman χ² = {friedman_stat:.3f}, p = {friedman_p:.5f}\")\n",
        "\n",
        "# Proceed to pairwise t-tests if Friedman is significant\n",
        "if friedman_p < 0.05:\n",
        "    print(\"\\nFriedman is significant (p < 0.05). Proceeding to pairwise paired t-tests with Holm correction.\")\n",
        "\n",
        "    pairs = list(itertools.combinations(classifiers, 2))\n",
        "    raw_pvals = []\n",
        "    ttest_stats = []\n",
        "\n",
        "    for (clf1, clf2) in pairs:\n",
        "        stat, pval = ttest_rel(scores[clf1], scores[clf2])\n",
        "        ttest_stats.append(stat)\n",
        "        raw_pvals.append(pval)\n",
        "\n",
        "    # Holm correction\n",
        "    m = len(raw_pvals)\n",
        "    sorted_indices = np.argsort(raw_pvals)\n",
        "    holm_pvals = np.empty(m, dtype=float)\n",
        "\n",
        "    for rank, idx in enumerate(sorted_indices):\n",
        "        holm_p = min((m - rank) * raw_pvals[idx], 1.0)\n",
        "        holm_pvals[idx] = holm_p\n",
        "\n",
        "    # Display results\n",
        "    print(\"\\nPairwise Paired t-tests (t-stat, raw p-val, Holm-adjusted p-val):\")\n",
        "    print(\"-----------------------------------------------------------------------\")\n",
        "    print(f\"{'Model A':<20} {'Model B':<20} {'t-stat':>7} {'p-raw':>9} {'p-holm':>9}\")\n",
        "    print(\"-----------------------------------------------------------------------\")\n",
        "    for i, (clf1, clf2) in enumerate(pairs):\n",
        "        t_stat = ttest_stats[i]\n",
        "        p_raw = raw_pvals[i]\n",
        "        p_holm = holm_pvals[i]\n",
        "        print(f\"{clf1:<20} {clf2:<20} {t_stat:7.2f} {p_raw:9.5f} {p_holm:9.5f}\")\n"
      ],
      "metadata": {
        "colab": {
          "base_uri": "https://localhost:8080/"
        },
        "id": "stnkZsGvqM_y",
        "outputId": "695d67de-dabb-4757-f70f-8ad6be59252d"
      },
      "execution_count": null,
      "outputs": [
        {
          "output_type": "stream",
          "name": "stdout",
          "text": [
            "Friedman χ² = 24.543, p = 0.00017\n",
            "\n",
            "Friedman is significant (p < 0.05). Proceeding to pairwise paired t-tests with Holm correction.\n",
            "\n",
            "Pairwise Paired t-tests (t-stat, raw p-val, Holm-adjusted p-val):\n",
            "-----------------------------------------------------------------------\n",
            "Model A              Model B               t-stat     p-raw    p-holm\n",
            "-----------------------------------------------------------------------\n",
            "LogisticRegression   SVM                   -23.08   0.00002   0.00023\n",
            "LogisticRegression   RandomForest          -25.43   0.00001   0.00017\n",
            "LogisticRegression   GradientBoosting      -27.16   0.00001   0.00015\n",
            "LogisticRegression   XGBoost               -26.48   0.00001   0.00016\n",
            "LogisticRegression   MLP                   -29.09   0.00001   0.00012\n",
            "SVM                  RandomForest          -11.72   0.00030   0.00242\n",
            "SVM                  GradientBoosting      -14.14   0.00015   0.00145\n",
            "SVM                  XGBoost               -13.54   0.00017   0.00155\n",
            "SVM                  MLP                    -3.82   0.01882   0.05646\n",
            "RandomForest         GradientBoosting       -4.26   0.01309   0.05234\n",
            "RandomForest         XGBoost                -3.62   0.02240   0.04480\n",
            "RandomForest         MLP                     8.84   0.00090   0.00452\n",
            "GradientBoosting     XGBoost                 2.14   0.09900   0.09900\n",
            "GradientBoosting     MLP                     9.99   0.00057   0.00339\n",
            "XGBoost              MLP                    10.32   0.00050   0.00348\n"
          ]
        }
      ]
    },
    {
      "cell_type": "markdown",
      "source": [
        "trying extrinsic + intrinsic comparisons"
      ],
      "metadata": {
        "id": "5g6bqs3a26xK"
      }
    },
    {
      "cell_type": "code",
      "source": [
        "# create score matrix of the 5-fold CV results for all classifiers\n",
        "\n",
        "combined_scores = {\n",
        "    \"LogisticRegression\" : np.array([0.74486301, 0.73886986, 0.75428082, 0.76797945, 0.75664096]),\n",
        "    \"SVM\": np.array([0.83304795, 0.79195205, 0.78767123, 0.81335616, 0.80548415]),\n",
        "    \"RandomForest\": np.array([0.89297945, 0.87157534, 0.86558219, 0.87328767, 0.8688946]),\n",
        "    \"GradientBoosting\": np.array([0.88527397, 0.87585616, 0.87671233, 0.87585616, 0.87746358]),\n",
        "    \"XGBoost\": np.array([0.89126712, 0.86729452, 0.88613014, 0.89297945, 0.88431877]),\n",
        "    \"MLP\": np.array([0.82534247, 0.8005137, 0.79623288, 0.82876712, 0.82262211])\n",
        "}\n",
        "\n",
        "# List of classifier names in a consistent order\n",
        "combined_classifiers = list(combined_scores.keys())"
      ],
      "metadata": {
        "id": "wMi7azrP25eo"
      },
      "execution_count": null,
      "outputs": []
    },
    {
      "cell_type": "code",
      "source": [
        "# paired t-test\n",
        "from scipy.stats import friedmanchisquare, ttest_rel\n",
        "import numpy as np\n",
        "import itertools\n",
        "\n",
        "# Step 1: Friedman test for global differences\n",
        "friedman_stat, friedman_p = friedmanchisquare(*(combined_scores[clf] for clf in combined_classifiers))\n",
        "print(f\"Friedman χ² = {friedman_stat:.3f}, p = {friedman_p:.5f}\")\n",
        "\n",
        "# Proceed to pairwise t-tests if Friedman is significant\n",
        "if friedman_p < 0.05:\n",
        "    print(\"\\nFriedman is significant (p < 0.05). Proceeding to pairwise paired t-tests with Holm correction.\")\n",
        "\n",
        "    pairs = list(itertools.combinations(combined_classifiers, 2))\n",
        "    raw_pvals = []\n",
        "    ttest_stats = []\n",
        "\n",
        "    for (clf1, clf2) in pairs:\n",
        "        stat, pval = ttest_rel(combined_scores[clf1], combined_scores[clf2])\n",
        "        ttest_stats.append(stat)\n",
        "        raw_pvals.append(pval)\n",
        "\n",
        "    # Holm correction\n",
        "    m = len(raw_pvals)\n",
        "    sorted_indices = np.argsort(raw_pvals)\n",
        "    holm_pvals = np.empty(m, dtype=float)\n",
        "\n",
        "    for rank, idx in enumerate(sorted_indices):\n",
        "        holm_p = min((m - rank) * raw_pvals[idx], 1.0)\n",
        "        holm_pvals[idx] = holm_p\n",
        "\n",
        "    # Display results\n",
        "    print(\"\\nPairwise Paired t-tests (t-stat, raw p-val, Holm-adjusted p-val):\")\n",
        "    print(\"-----------------------------------------------------------------------\")\n",
        "    print(f\"{'Model A':<20} {'Model B':<20} {'t-stat':>7} {'p-raw':>9} {'p-holm':>9}\")\n",
        "    print(\"-----------------------------------------------------------------------\")\n",
        "    for i, (clf1, clf2) in enumerate(pairs):\n",
        "        t_stat = ttest_stats[i]\n",
        "        p_raw = raw_pvals[i]\n",
        "        p_holm = holm_pvals[i]\n",
        "        print(f\"{clf1:<20} {clf2:<20} {t_stat:7.2f} {p_raw:9.5f} {p_holm:9.5f}\")\n"
      ],
      "metadata": {
        "colab": {
          "base_uri": "https://localhost:8080/"
        },
        "id": "CKwaRrVy3k8s",
        "outputId": "711e97b5-c862-4e4b-a469-09341bc89fc7"
      },
      "execution_count": null,
      "outputs": [
        {
          "output_type": "stream",
          "name": "stdout",
          "text": [
            "Friedman χ² = 22.143, p = 0.00049\n",
            "\n",
            "Friedman is significant (p < 0.05). Proceeding to pairwise paired t-tests with Holm correction.\n",
            "\n",
            "Pairwise Paired t-tests (t-stat, raw p-val, Holm-adjusted p-val):\n",
            "-----------------------------------------------------------------------\n",
            "Model A              Model B               t-stat     p-raw    p-holm\n",
            "-----------------------------------------------------------------------\n",
            "LogisticRegression   SVM                    -5.84   0.00428   0.02141\n",
            "LogisticRegression   RandomForest          -15.21   0.00011   0.00131\n",
            "LogisticRegression   GradientBoosting      -21.31   0.00003   0.00040\n",
            "LogisticRegression   XGBoost               -34.76   0.00000   0.00006\n",
            "LogisticRegression   MLP                   -10.08   0.00054   0.00327\n",
            "SVM                  RandomForest          -15.55   0.00010   0.00130\n",
            "SVM                  GradientBoosting      -10.64   0.00044   0.00397\n",
            "SVM                  XGBoost               -12.20   0.00026   0.00260\n",
            "SVM                  MLP                    -1.91   0.12828   0.51311\n",
            "RandomForest         GradientBoosting       -1.16   0.31007   0.31007\n",
            "RandomForest         XGBoost                -1.85   0.13774   0.41321\n",
            "RandomForest         MLP                    10.13   0.00053   0.00374\n",
            "GradientBoosting     XGBoost                -1.48   0.21348   0.42696\n",
            "GradientBoosting     MLP                    10.14   0.00053   0.00426\n",
            "XGBoost              MLP                    13.61   0.00017   0.00186\n"
          ]
        }
      ]
    },
    {
      "cell_type": "code",
      "source": [
        "# extrinsic only\n",
        "# create score matrix of the 5-fold CV results for all classifiers\n",
        "\n",
        "combined_scores = {\n",
        "    \"LogisticRegression\" : np.array([0.82363014, 0.82277397, 0.8364726,  0.84760274, 0.82262211]),\n",
        "    \"SVM\": np.array([0.7739726,  0.76712329, 0.77739726, 0.79195205, 0.79005998]),\n",
        "    \"RandomForest\": np.array([0.76969178, 0.76626712, 0.77054795, 0.78767123, 0.77035133]),\n",
        "    \"GradientBoosting\": np.array([0.85445205, 0.83390411, 0.84503425, 0.87157534, 0.84575835]),\n",
        "    \"XGBoost\": np.array([0.8630137,  0.85616438, 0.87756849, 0.88356164, 0.85089974]),\n",
        "    \"MLP\": np.array([0.78681507, 0.7885274,  0.7859589,  0.80308219, 0.80462725])\n",
        "}\n",
        "\n",
        "# List of classifier names in a consistent order\n",
        "combined_classifiers = list(combined_scores.keys())"
      ],
      "metadata": {
        "id": "osWxOcZtK3RX"
      },
      "execution_count": null,
      "outputs": []
    },
    {
      "cell_type": "code",
      "source": [
        "# paired t-test\n",
        "from scipy.stats import friedmanchisquare, ttest_rel\n",
        "import numpy as np\n",
        "import itertools\n",
        "\n",
        "# Step 1: Friedman test for global differences\n",
        "friedman_stat, friedman_p = friedmanchisquare(*(combined_scores[clf] for clf in combined_classifiers))\n",
        "print(f\"Friedman χ² = {friedman_stat:.3f}, p = {friedman_p:.5f}\")\n",
        "\n",
        "# Proceed to pairwise t-tests if Friedman is significant\n",
        "if friedman_p < 0.05:\n",
        "    print(\"\\nFriedman is significant (p < 0.05). Proceeding to pairwise paired t-tests with Holm correction.\")\n",
        "\n",
        "    pairs = list(itertools.combinations(combined_classifiers, 2))\n",
        "    raw_pvals = []\n",
        "    ttest_stats = []\n",
        "\n",
        "    for (clf1, clf2) in pairs:\n",
        "        stat, pval = ttest_rel(combined_scores[clf1], combined_scores[clf2])\n",
        "        ttest_stats.append(stat)\n",
        "        raw_pvals.append(pval)\n",
        "\n",
        "    # Holm correction\n",
        "    m = len(raw_pvals)\n",
        "    sorted_indices = np.argsort(raw_pvals)\n",
        "    holm_pvals = np.empty(m, dtype=float)\n",
        "\n",
        "    for rank, idx in enumerate(sorted_indices):\n",
        "        holm_p = min((m - rank) * raw_pvals[idx], 1.0)\n",
        "        holm_pvals[idx] = holm_p\n",
        "\n",
        "    # Display results\n",
        "    print(\"\\nPairwise Paired t-tests (t-stat, raw p-val, Holm-adjusted p-val):\")\n",
        "    print(\"-----------------------------------------------------------------------\")\n",
        "    print(f\"{'Model A':<20} {'Model B':<20} {'t-stat':>7} {'p-raw':>9} {'p-holm':>9}\")\n",
        "    print(\"-----------------------------------------------------------------------\")\n",
        "    for i, (clf1, clf2) in enumerate(pairs):\n",
        "        t_stat = ttest_stats[i]\n",
        "        p_raw = raw_pvals[i]\n",
        "        p_holm = holm_pvals[i]\n",
        "        print(f\"{clf1:<20} {clf2:<20} {t_stat:7.2f} {p_raw:9.5f} {p_holm:9.5f}\")\n"
      ],
      "metadata": {
        "colab": {
          "base_uri": "https://localhost:8080/"
        },
        "id": "2ExwYapZMQWY",
        "outputId": "d9383152-a4c3-40d9-fae8-1aa32fec6496"
      },
      "execution_count": null,
      "outputs": [
        {
          "output_type": "stream",
          "name": "stdout",
          "text": [
            "Friedman χ² = 25.000, p = 0.00014\n",
            "\n",
            "Friedman is significant (p < 0.05). Proceeding to pairwise paired t-tests with Holm correction.\n",
            "\n",
            "Pairwise Paired t-tests (t-stat, raw p-val, Holm-adjusted p-val):\n",
            "-----------------------------------------------------------------------\n",
            "Model A              Model B               t-stat     p-raw    p-holm\n",
            "-----------------------------------------------------------------------\n",
            "LogisticRegression   SVM                    10.66   0.00044   0.00395\n",
            "LogisticRegression   RandomForest           23.79   0.00002   0.00026\n",
            "LogisticRegression   GradientBoosting       -4.66   0.00959   0.02877\n",
            "LogisticRegression   XGBoost               -15.69   0.00010   0.00116\n",
            "LogisticRegression   MLP                     6.68   0.00261   0.01568\n",
            "SVM                  RandomForest            2.20   0.09263   0.09263\n",
            "SVM                  GradientBoosting      -15.23   0.00011   0.00119\n",
            "SVM                  XGBoost               -12.96   0.00020   0.00205\n",
            "SVM                  MLP                    -6.32   0.00320   0.01599\n",
            "RandomForest         GradientBoosting      -24.18   0.00002   0.00026\n",
            "RandomForest         XGBoost               -21.73   0.00003   0.00035\n",
            "RandomForest         MLP                    -5.85   0.00426   0.01705\n",
            "GradientBoosting     XGBoost                -3.21   0.03249   0.06497\n",
            "GradientBoosting     MLP                    10.00   0.00056   0.00449\n",
            "XGBoost              MLP                     9.54   0.00068   0.00473\n"
          ]
        }
      ]
    }
  ]
}